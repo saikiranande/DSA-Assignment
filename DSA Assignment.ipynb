{
 "cells": [
  {
   "cell_type": "code",
   "execution_count": 10,
   "id": "f9917900",
   "metadata": {},
   "outputs": [],
   "source": [
    "#Q1)\n",
    "def find_allpairs(arr,sum):\n",
    "    low = 0\n",
    "    high =len(arr)-1\n",
    "    while (low<high):\n",
    "        if (arr[low]+arr[high]==sum):\n",
    "            print(\"pair : (\",arr[low],\",\",arr[high],\")\")\n",
    "        if (arr[low]+arr[high]>sum):\n",
    "            high -= 1\n",
    "        else:\n",
    "            low += 1\n"
   ]
  },
  {
   "cell_type": "code",
   "execution_count": 11,
   "id": "0457ed1c",
   "metadata": {
    "scrolled": true
   },
   "outputs": [
    {
     "name": "stdout",
     "output_type": "stream",
     "text": [
      "pair : ( 2 , 8 )\n",
      "pair : ( 3 , 7 )\n",
      "pair : ( 4 , 6 )\n"
     ]
    }
   ],
   "source": [
    "find_allpairs([1,2,3,4,5,6,7,8],10)"
   ]
  },
  {
   "cell_type": "code",
   "execution_count": 12,
   "id": "9fdbba64",
   "metadata": {},
   "outputs": [
    {
     "name": "stdout",
     "output_type": "stream",
     "text": [
      "[6, 5, 4, 3, 2, 1]\n"
     ]
    }
   ],
   "source": [
    "#Q2)\n",
    "def reversearray(arr,start):\n",
    "    end = len(arr)-1\n",
    "    while start < end:\n",
    "        arr[start],arr[end]=arr[end],arr[start]\n",
    "        start +=1\n",
    "        end-=1\n",
    "    print(arr)\n",
    "reversearray([1,2,3,4,5,6],0,) "
   ]
  },
  {
   "cell_type": "code",
   "execution_count": 41,
   "id": "01d8c27a",
   "metadata": {},
   "outputs": [],
   "source": [
    "#Q3)\n",
    "def checkrotation(A,B):\n",
    "    temp = ' '\n",
    "    if len(A) != len(B):\n",
    "        return False\n",
    "    temp =  A + B\n",
    "    if (temp.count(B)>0):\n",
    "        return True\n",
    "    else:\n",
    "        return False"
   ]
  },
  {
   "cell_type": "code",
   "execution_count": 44,
   "id": "f50118c4",
   "metadata": {},
   "outputs": [
    {
     "data": {
      "text/plain": [
       "True"
      ]
     },
     "execution_count": 44,
     "metadata": {},
     "output_type": "execute_result"
    }
   ],
   "source": [
    "A = 'asdf'\n",
    "B = 'fdsa'\n",
    "checkrotation(A,B)"
   ]
  },
  {
   "cell_type": "code",
   "execution_count": 16,
   "id": "e24a1d54",
   "metadata": {},
   "outputs": [],
   "source": [
    "#Q4)\n",
    "from collections import Counter\n",
    "def mapping(string):\n",
    "    d1 = Counter(string)\n",
    "\n",
    "    d1 = {(key):(0 if d1[key]==1 else None) for key, value in d1.items()}\n",
    "    return d1   \n",
    "def first_non_repeated_char(s):\n",
    "    d = mapping(s)\n",
    "    nonrep = None\n",
    "    for i in s:\n",
    "        if d[i] is not None:\n",
    "            nonrep = i\n",
    "            break\n",
    "            \n",
    "    if nonrep is not None:\n",
    "        return  nonrep\n",
    "    else:\n",
    "        return str(\"_\")\n",
    "    "
   ]
  },
  {
   "cell_type": "code",
   "execution_count": 17,
   "id": "b3cbaa58",
   "metadata": {},
   "outputs": [
    {
     "name": "stdout",
     "output_type": "stream",
     "text": [
      "_\n"
     ]
    }
   ],
   "source": [
    "print(first_non_repeated_char(\"ssaikirankrn\"))"
   ]
  },
  {
   "cell_type": "code",
   "execution_count": 18,
   "id": "ebbbe026",
   "metadata": {},
   "outputs": [],
   "source": [
    "#Q5)\n",
    "def TowerofHanoi(n,rod1,rod2,rod3):\n",
    "    if n==1:\n",
    "        print(\"move disk 1 from rod\",rod1,\"to rod\",rod2)\n",
    "        return\n",
    "    TowerofHanoi(n-1,rod1,rod3,rod2)\n",
    "    print(\"movedisk\",n,\"from rod\",rod1,\"to rod\",rod2)\n",
    "    TowerofHanoi(n-1,rod3,rod2,rod1)"
   ]
  },
  {
   "cell_type": "code",
   "execution_count": 19,
   "id": "f627b698",
   "metadata": {},
   "outputs": [
    {
     "name": "stdout",
     "output_type": "stream",
     "text": [
      "move disk 1 from rod A to rod C\n",
      "movedisk 2 from rod A to rod B\n",
      "move disk 1 from rod C to rod B\n",
      "movedisk 3 from rod A to rod C\n",
      "move disk 1 from rod B to rod A\n",
      "movedisk 2 from rod B to rod C\n",
      "move disk 1 from rod A to rod C\n",
      "movedisk 4 from rod A to rod B\n",
      "move disk 1 from rod C to rod B\n",
      "movedisk 2 from rod C to rod A\n",
      "move disk 1 from rod B to rod A\n",
      "movedisk 3 from rod C to rod B\n",
      "move disk 1 from rod A to rod C\n",
      "movedisk 2 from rod A to rod B\n",
      "move disk 1 from rod C to rod B\n"
     ]
    }
   ],
   "source": [
    "n=4\n",
    "TowerofHanoi(n,'A','B','C')"
   ]
  },
  {
   "cell_type": "code",
   "execution_count": 20,
   "id": "12db006b",
   "metadata": {},
   "outputs": [],
   "source": [
    "#Q6)\n",
    "def conversion(s):\n",
    "    stack = []\n",
    "    operators ={'+','/','-','*','^'}\n",
    "    s =s[::-1]\n",
    "    for i in s:\n",
    "        if i in operators:\n",
    "            a = stack.pop()\n",
    "            b = stack.pop()\n",
    "            \n",
    "            temp = a+b+i\n",
    "\n",
    "            stack.append(temp)\n",
    "        else:\n",
    "            stack.append(i)\n",
    "    print(*stack)"
   ]
  },
  {
   "cell_type": "code",
   "execution_count": 21,
   "id": "a6949470",
   "metadata": {},
   "outputs": [
    {
     "name": "stdout",
     "output_type": "stream",
     "text": [
      "ASD/-QW/E-*\n"
     ]
    }
   ],
   "source": [
    "conversion(\"*-A/SD-/QWE\")"
   ]
  },
  {
   "cell_type": "code",
   "execution_count": 22,
   "id": "3bc21d5e",
   "metadata": {},
   "outputs": [],
   "source": [
    "#Q7\n",
    "def conversion(s):\n",
    "    stack = []\n",
    "    operators ={'+','/','-','*','^'}\n",
    "    s =s[::-1]\n",
    "    for i in s:\n",
    "        if i in operators:\n",
    "            a = stack.pop()\n",
    "            b = stack.pop()\n",
    "            \n",
    "            temp = \"(\"+ a + i + b +\")\"\n",
    "\n",
    "            stack.append(temp)\n",
    "        else:\n",
    "            stack.append(i)\n",
    "    print(*stack)"
   ]
  },
  {
   "cell_type": "code",
   "execution_count": 23,
   "id": "76f05f54",
   "metadata": {},
   "outputs": [
    {
     "name": "stdout",
     "output_type": "stream",
     "text": [
      "((A-(B/C))*((A/K)-L))\n"
     ]
    }
   ],
   "source": [
    "conversion(\"*-A/BC-/AKL\")"
   ]
  },
  {
   "cell_type": "code",
   "execution_count": 24,
   "id": "a050d121",
   "metadata": {},
   "outputs": [
    {
     "name": "stdout",
     "output_type": "stream",
     "text": [
      "({\n",
      "Parenthesis are Balanced!\n"
     ]
    }
   ],
   "source": [
    "#Q8\n",
    "class Stack():\n",
    "    def __init__(self,size):\n",
    "        self.data = []\n",
    "        self.size = size\n",
    "        self.length = 0\n",
    "        self.top = None\n",
    "        \n",
    "    def push(self,item):\n",
    "        if self.length < self.size:\n",
    "            self.data.append(item)\n",
    "            self.length+=1\n",
    "            self.top = item\n",
    "        else:\n",
    "            print('STACK OVERFLOW')\n",
    "            \n",
    "    def pop(self):\n",
    "        if self.length == 0:\n",
    "            print('STACK UNDERFLOW')\n",
    "            return None\n",
    "        else:\n",
    "            popped_item = self.data.pop()\n",
    "            self.length -= 1\n",
    "            if self.length == 0:\n",
    "                self.top = None\n",
    "            else:  \n",
    "                self.top = self.data[-1]\n",
    "            return popped_item\n",
    "    def peak(self):\n",
    "        return self.top\n",
    "    \n",
    "    def isEmpty(self):\n",
    "        return not bool(self.length)\n",
    "    \n",
    "    def length(self):\n",
    "        return self.length\n",
    "    def display(self):\n",
    "        print('Printing items from top to bottom...')\n",
    "        for i in self.data[::-1]:\n",
    "            print(i)\n",
    "            \n",
    "stack_obj = Stack(20)        \n",
    "expression = input()\n",
    "partner = {']':'[','}':'{',')':'('}\n",
    "for char in expression:\n",
    "    if char in ['{','[','(']:\n",
    "        stack_obj.push(char)\n",
    "    else:\n",
    "        if stack_obj.length == 0:\n",
    "            print('Parenthesis are not Balanced!')\n",
    "            break\n",
    "        else:\n",
    "            if partner[char] == stack_obj.peak():\n",
    "                stack_obj.pop()\n",
    "            else:\n",
    "                print('Parenthesis are not Balanced!')\n",
    "                break\n",
    "                \n",
    "else:\n",
    "    if stack_obj.length != 0:\n",
    "        print('Parenthesis are Balanced!')\n",
    "    else:\n",
    "        print('Parenthesis are not Balanced!')   "
   ]
  },
  {
   "cell_type": "code",
   "execution_count": 257,
   "id": "9884b754",
   "metadata": {},
   "outputs": [],
   "source": [
    "def insertAtBottom(stack, item):\n",
    "    if isEmpty(stack):\n",
    "        push(stack, item)\n",
    "    else:\n",
    "        temp = pop(stack)\n",
    "        insertAtBottom(stack, item)\n",
    "        push(stack, temp)\n",
    "\n",
    "def reverse(stack):\n",
    "    if not isEmpty(stack):\n",
    "        temp = pop(stack)\n",
    "        reverse(stack)\n",
    "        insertAtBottom(stack, temp)\n",
    "\n",
    "def createStack():\n",
    "    stack = []\n",
    "    return stack         \n",
    "\n",
    "def isEmpty( stack ):\n",
    "    return len(stack) == 0\n",
    " \n",
    "\n",
    "def push( stack, item ):\n",
    "    stack.append( item )\n",
    " \n",
    "\n",
    "def pop( stack ):\n",
    " \n",
    "\n",
    "    if(isEmpty( stack )):\n",
    "        print(\"Stack Underflow \")\n",
    "        exit(1)\n",
    " \n",
    "    return stack.pop()\n",
    "\n",
    "def prints(stack):\n",
    "    for i in range(len(stack)-1, -1, -1):\n",
    "        print(stack[i], end = ' ')\n",
    "    print()"
   ]
  },
  {
   "cell_type": "code",
   "execution_count": 259,
   "id": "a2315aaf",
   "metadata": {},
   "outputs": [
    {
     "name": "stdout",
     "output_type": "stream",
     "text": [
      "Original Stack \n",
      "1 2 3 4 \n",
      "Reversed Stack \n",
      "4 3 2 1 \n"
     ]
    }
   ],
   "source": [
    "stack = createStack()\n",
    "push( stack, str(4) )\n",
    "push( stack, str(3) )\n",
    "push( stack, str(2) )\n",
    "push( stack, str(1) )\n",
    "print(\"Original Stack \")\n",
    "prints(stack)\n",
    " \n",
    "reverse(stack)\n",
    " \n",
    "print(\"Reversed Stack \")\n",
    "prints(stack)"
   ]
  },
  {
   "cell_type": "code",
   "execution_count": 21,
   "id": "1c6f9c98",
   "metadata": {},
   "outputs": [],
   "source": [
    "#Q10)\n",
    "class min_stack():\n",
    "    def __init__(self):\n",
    "        \n",
    "        self.main_stack = []\n",
    "        self.help_stack = []\n",
    "        \n",
    "    def push(self,item):\n",
    "        self.main_stack.append(item)\n",
    "        if len(self.help_stack) >= 1:\n",
    "            if self.help_stack[-1] >= item:\n",
    "                self.help_stack.append(item)\n",
    "        else:\n",
    "            self.help_stack.append(item)\n",
    "            \n",
    "    def pop():\n",
    "        if len(self.main_stack) >= 1:\n",
    "            popped_value = self.main_stack.pop()\n",
    "            if popped_value == self.help_stack[-1]:\n",
    "                self.help_stack.pop()\n",
    "                \n",
    "    def min(self):\n",
    "        if len(self.help_stack) >= 1:\n",
    "            return self.help_stack[-1]\n",
    "        else:\n",
    "            return None"
   ]
  },
  {
   "cell_type": "code",
   "execution_count": 22,
   "id": "dda0f20d",
   "metadata": {},
   "outputs": [],
   "source": [
    "obj = min_stack()"
   ]
  },
  {
   "cell_type": "code",
   "execution_count": 23,
   "id": "b83c7444",
   "metadata": {},
   "outputs": [],
   "source": [
    "obj.push(18)\n",
    "obj.push(22)"
   ]
  },
  {
   "cell_type": "code",
   "execution_count": 24,
   "id": "95a7b2ba",
   "metadata": {},
   "outputs": [],
   "source": [
    "obj.push(39)\n",
    "obj.push(4)"
   ]
  },
  {
   "cell_type": "code",
   "execution_count": 25,
   "id": "ed032819",
   "metadata": {},
   "outputs": [
    {
     "data": {
      "text/plain": [
       "4"
      ]
     },
     "execution_count": 25,
     "metadata": {},
     "output_type": "execute_result"
    }
   ],
   "source": [
    "obj.min()"
   ]
  },
  {
   "cell_type": "code",
   "execution_count": null,
   "id": "c0c47e39",
   "metadata": {},
   "outputs": [],
   "source": []
  }
 ],
 "metadata": {
  "kernelspec": {
   "display_name": "Python 3 (ipykernel)",
   "language": "python",
   "name": "python3"
  },
  "language_info": {
   "codemirror_mode": {
    "name": "ipython",
    "version": 3
   },
   "file_extension": ".py",
   "mimetype": "text/x-python",
   "name": "python",
   "nbconvert_exporter": "python",
   "pygments_lexer": "ipython3",
   "version": "3.9.7"
  }
 },
 "nbformat": 4,
 "nbformat_minor": 5
}
